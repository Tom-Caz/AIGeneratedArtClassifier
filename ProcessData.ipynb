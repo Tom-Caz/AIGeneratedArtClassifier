{
 "cells": [
  {
   "cell_type": "markdown",
   "id": "335e0f59-20b0-40f5-8e3d-c10539f23835",
   "metadata": {
    "tags": []
   },
   "source": [
    "# Data Processing\n",
    "\n",
    "This program puts the processed data from the Midjourney and WikiArt datasets into data.csv.\n",
    "\n",
    "The format is as folows:\n",
    "\n",
    "img | Midjourney | Wikiart\n",
    "\n",
    "---"
   ]
  },
  {
   "cell_type": "code",
   "execution_count": 12,
   "id": "85e251c8-d5dc-43cc-a1e3-75e13456a8ef",
   "metadata": {},
   "outputs": [],
   "source": [
    "import os\n",
    "import csv\n",
    "from skimage.io import imread"
   ]
  },
  {
   "cell_type": "code",
   "execution_count": 30,
   "id": "9192a7b0-e5e4-48ba-9fa2-b87b0361eb8d",
   "metadata": {},
   "outputs": [],
   "source": [
    "errors = [\n",
    "'abded5305b3ef29989a4f61d8069c210c.jpg',\n",
    "'df644416a80902d1cdfa59652c7472c5c.jpg',\n",
    "'9135500cab2f5d4efb07d0defe44383cc.jpg',\n",
    "'819f85693fbfab80f992ef34c2544200c.jpg',\n",
    "'223fd214bd03c45e6aeaf63c666fc75ac.jpg',\n",
    "'9729e4068261c51bb05eb0a240d838c5c.jpg',\n",
    "'73973c97d15f8e6453824a5a58dde7b1c.jpg',\n",
    "'8700a9bb8707cd4a871a6bb4c2bfd7bac.jpg',\n",
    "'d1b14d2cdb5807c37c078d51973fd004c.jpg',\n",
    "'05b8a176ff3a47191930bb2363525337c.jpg',\n",
    "'42d0f7b1c1de9ab96411ce2f59b95d20c.jpg',\n",
    "'bb328e40a69f21137fa3899ae4c036d9c.jpg',\n",
    "'1269c0ed952d01707f640eb6fb4f8fadc.jpg',\n",
    "'8aa7269a6d70e242df88c842468961a6c.jpg',\n",
    "'fc46d16efa70887a11ae9b2bf20b93adc.jpg',\n",
    "]"
   ]
  },
  {
   "cell_type": "code",
   "execution_count": 32,
   "id": "810bea93-2322-466b-a642-f83698374acc",
   "metadata": {},
   "outputs": [],
   "source": [
    "with open('data.csv', 'w', newline='') as file:\n",
    "    writer = csv.writer(file)\n",
    "    writer.writerow([\"img\", \"Midjourney\", \"Wikiart\"])\n",
    "    \n",
    "    WikiArtDir = \"Unprocessed Data/WikiArtFigProcessed\"\n",
    "    for filename in os.scandir(WikiArtDir):\n",
    "        if filename.is_file():\n",
    "            if filename.name in errors:\n",
    "                continue\n",
    "            # im = imread(filename.path)\n",
    "            writer.writerow([filename.path, 0, 1])\n",
    "    \n",
    "    Midjourney = \"Unprocessed Data/MidjourneyImages\"\n",
    "    for filename in os.scandir(Midjourney):\n",
    "        if filename.is_file():\n",
    "            # im = imread(filename.path)\n",
    "            writer.writerow([filename.path, 1, 0])"
   ]
  },
  {
   "cell_type": "code",
   "execution_count": null,
   "id": "b9cefd43-dee7-4eea-8b97-5fdcc5f9813a",
   "metadata": {},
   "outputs": [],
   "source": []
  }
 ],
 "metadata": {
  "kernelspec": {
   "display_name": "Python 3 (ipykernel)",
   "language": "python",
   "name": "python3"
  },
  "language_info": {
   "codemirror_mode": {
    "name": "ipython",
    "version": 3
   },
   "file_extension": ".py",
   "mimetype": "text/x-python",
   "name": "python",
   "nbconvert_exporter": "python",
   "pygments_lexer": "ipython3",
   "version": "3.9.15"
  }
 },
 "nbformat": 4,
 "nbformat_minor": 5
}
