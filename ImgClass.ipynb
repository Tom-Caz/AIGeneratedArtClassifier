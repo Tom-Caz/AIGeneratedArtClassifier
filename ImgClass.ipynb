{
 "cells": [
  {
   "cell_type": "markdown",
   "id": "5baff56a-c029-49fd-a74f-decf0ee024f5",
   "metadata": {
    "tags": []
   },
   "source": [
    "# Image Classification\n",
    "\n",
    "Reads the processed inout data.\n",
    "\n",
    "Creates the model.\n",
    "\n",
    "Trains the model.\n",
    "\n",
    "Tests the model.\n",
    "\n",
    "---"
   ]
  },
  {
   "cell_type": "code",
   "execution_count": 1,
   "id": "baaa60c0-8da7-452c-9094-e10d3a937d76",
   "metadata": {
    "tags": []
   },
   "outputs": [],
   "source": [
    "import tensorflow as tf\n",
    "import pandas as pd\n",
    "import numpy as np\n",
    "from tensorflow import keras\n",
    "from keras.utils import img_to_array\n",
    "from keras.models import Sequential\n",
    "from keras.layers.core import Dense, Dropout, Flatten\n",
    "from keras.layers.convolutional import Conv2D, MaxPooling2D\n",
    "\n",
    "from sklearn.model_selection import train_test_split\n",
    "from PIL import Image"
   ]
  },
  {
   "cell_type": "markdown",
   "id": "fbda2b8b-174e-42cd-b560-bfce6ad671dc",
   "metadata": {
    "tags": []
   },
   "source": [
    "## Data Reading/Processing"
   ]
  },
  {
   "cell_type": "code",
   "execution_count": 2,
   "id": "e7d4b2e5-7954-45f5-949c-5964b0fba04c",
   "metadata": {},
   "outputs": [
    {
     "data": {
      "text/html": [
       "<div>\n",
       "<style scoped>\n",
       "    .dataframe tbody tr th:only-of-type {\n",
       "        vertical-align: middle;\n",
       "    }\n",
       "\n",
       "    .dataframe tbody tr th {\n",
       "        vertical-align: top;\n",
       "    }\n",
       "\n",
       "    .dataframe thead th {\n",
       "        text-align: right;\n",
       "    }\n",
       "</style>\n",
       "<table border=\"1\" class=\"dataframe\">\n",
       "  <thead>\n",
       "    <tr style=\"text-align: right;\">\n",
       "      <th></th>\n",
       "      <th>Midjourney</th>\n",
       "      <th>Wikiart</th>\n",
       "    </tr>\n",
       "  </thead>\n",
       "  <tbody>\n",
       "    <tr>\n",
       "      <th>count</th>\n",
       "      <td>9009.00000</td>\n",
       "      <td>9009.00000</td>\n",
       "    </tr>\n",
       "    <tr>\n",
       "      <th>mean</th>\n",
       "      <td>0.50272</td>\n",
       "      <td>0.49728</td>\n",
       "    </tr>\n",
       "    <tr>\n",
       "      <th>std</th>\n",
       "      <td>0.50002</td>\n",
       "      <td>0.50002</td>\n",
       "    </tr>\n",
       "    <tr>\n",
       "      <th>min</th>\n",
       "      <td>0.00000</td>\n",
       "      <td>0.00000</td>\n",
       "    </tr>\n",
       "    <tr>\n",
       "      <th>25%</th>\n",
       "      <td>0.00000</td>\n",
       "      <td>0.00000</td>\n",
       "    </tr>\n",
       "    <tr>\n",
       "      <th>50%</th>\n",
       "      <td>1.00000</td>\n",
       "      <td>0.00000</td>\n",
       "    </tr>\n",
       "    <tr>\n",
       "      <th>75%</th>\n",
       "      <td>1.00000</td>\n",
       "      <td>1.00000</td>\n",
       "    </tr>\n",
       "    <tr>\n",
       "      <th>max</th>\n",
       "      <td>1.00000</td>\n",
       "      <td>1.00000</td>\n",
       "    </tr>\n",
       "  </tbody>\n",
       "</table>\n",
       "</div>"
      ],
      "text/plain": [
       "       Midjourney     Wikiart\n",
       "count  9009.00000  9009.00000\n",
       "mean      0.50272     0.49728\n",
       "std       0.50002     0.50002\n",
       "min       0.00000     0.00000\n",
       "25%       0.00000     0.00000\n",
       "50%       1.00000     0.00000\n",
       "75%       1.00000     1.00000\n",
       "max       1.00000     1.00000"
      ]
     },
     "execution_count": 2,
     "metadata": {},
     "output_type": "execute_result"
    }
   ],
   "source": [
    "df = pd.read_csv('data.csv')\n",
    "df.groupby('Midjourney').value_counts()\n",
    "df.describe()"
   ]
  },
  {
   "cell_type": "code",
   "execution_count": 3,
   "id": "5b2fb967-a67d-4776-a3b9-5cfad947eaf8",
   "metadata": {
    "tags": []
   },
   "outputs": [
    {
     "data": {
      "text/plain": [
       "1    4529\n",
       "0    4480\n",
       "Name: Midjourney, dtype: int64"
      ]
     },
     "execution_count": 3,
     "metadata": {},
     "output_type": "execute_result"
    }
   ],
   "source": [
    "X = df[['img']]\n",
    "# y = df.drop(columns=['img'])\n",
    "y = df['Midjourney']\n",
    "y.value_counts()"
   ]
  },
  {
   "cell_type": "markdown",
   "id": "fddeeed0-30ce-457a-9c8f-bef16512efcb",
   "metadata": {},
   "source": [
    "Converts the images to a format readable by the model:"
   ]
  },
  {
   "cell_type": "code",
   "execution_count": 4,
   "id": "081b1726-c482-4934-ae98-4e360f8d619e",
   "metadata": {
    "tags": []
   },
   "outputs": [],
   "source": [
    "all_images = []\n",
    "for i, image_path in enumerate(X['img']):\n",
    "    img = Image.open(image_path)\n",
    "    # print(img.size)\n",
    "    array = tf.keras.utils.img_to_array(img)\n",
    "    \n",
    "    if (array.size != 196608):\n",
    "        print(image_path)\n",
    "        y = y.drop(index=i)\n",
    "        continue\n",
    "    all_images.append(array)\n",
    "X = all_images"
   ]
  },
  {
   "cell_type": "code",
   "execution_count": 5,
   "id": "4709156f-d75f-4e7d-9ca8-3f2c4424cfb4",
   "metadata": {
    "tags": []
   },
   "outputs": [
    {
     "data": {
      "text/plain": [
       "array([0, 0, 0, ..., 1, 1, 1])"
      ]
     },
     "execution_count": 5,
     "metadata": {},
     "output_type": "execute_result"
    }
   ],
   "source": [
    "X = np.array(X)\n",
    "y = np.array(y)\n",
    "y"
   ]
  },
  {
   "cell_type": "code",
   "execution_count": 6,
   "id": "a268d991-39f5-4af6-b82e-a639eea5ba55",
   "metadata": {},
   "outputs": [
    {
     "data": {
      "text/plain": [
       "(256, 256, 3)"
      ]
     },
     "execution_count": 6,
     "metadata": {},
     "output_type": "execute_result"
    }
   ],
   "source": [
    "X[0].shape"
   ]
  },
  {
   "cell_type": "markdown",
   "id": "3f51351b-3b1d-4ba8-a8fd-cea4d752ccf7",
   "metadata": {},
   "source": [
    "Splits the data into training and testing segments:"
   ]
  },
  {
   "cell_type": "code",
   "execution_count": 7,
   "id": "4e48b01b-a7ca-458f-bc52-b122c3d9990f",
   "metadata": {},
   "outputs": [],
   "source": [
    "X_train, X_test, y_train, y_test = train_test_split(X, y, test_size=0.10, random_state=337)\n",
    "X_train /= 255.0\n",
    "X_test /= 255.0"
   ]
  },
  {
   "cell_type": "code",
   "execution_count": 8,
   "id": "0c300fd1-e1ae-4aa4-885d-074c4d3da55c",
   "metadata": {
    "tags": []
   },
   "outputs": [
    {
     "data": {
      "text/plain": [
       "array([0, 0, 0, ..., 0, 0, 1])"
      ]
     },
     "execution_count": 8,
     "metadata": {},
     "output_type": "execute_result"
    }
   ],
   "source": [
    "y_train"
   ]
  },
  {
   "cell_type": "code",
   "execution_count": 9,
   "id": "ef1679b5-33cd-4c17-b77f-3005915bc74f",
   "metadata": {},
   "outputs": [],
   "source": [
    "input_shape = (256, 256, 3)"
   ]
  },
  {
   "cell_type": "markdown",
   "id": "6e99264c-5a17-415b-95e7-06f6808591a1",
   "metadata": {},
   "source": [
    "## Model Creation"
   ]
  },
  {
   "cell_type": "code",
   "execution_count": 11,
   "id": "4b96ba8a-8dec-40c6-9b25-014acabcbf5b",
   "metadata": {},
   "outputs": [
    {
     "name": "stdout",
     "output_type": "stream",
     "text": [
      "Model: \"sequential_1\"\n",
      "_________________________________________________________________\n",
      " Layer (type)                Output Shape              Param #   \n",
      "=================================================================\n",
      " conv2d_2 (Conv2D)           (None, 254, 254, 32)      896       \n",
      "                                                                 \n",
      " conv2d_3 (Conv2D)           (None, 252, 252, 64)      18496     \n",
      "                                                                 \n",
      " max_pooling2d_1 (MaxPooling  (None, 126, 126, 64)     0         \n",
      " 2D)                                                             \n",
      "                                                                 \n",
      " dropout_2 (Dropout)         (None, 126, 126, 64)      0         \n",
      "                                                                 \n",
      " flatten_1 (Flatten)         (None, 1016064)           0         \n",
      "                                                                 \n",
      " dense_2 (Dense)             (None, 128)               130056320 \n",
      "                                                                 \n",
      " dropout_3 (Dropout)         (None, 128)               0         \n",
      "                                                                 \n",
      " dense_3 (Dense)             (None, 1)                 129       \n",
      "                                                                 \n",
      "=================================================================\n",
      "Total params: 130,075,841\n",
      "Trainable params: 130,075,841\n",
      "Non-trainable params: 0\n",
      "_________________________________________________________________\n"
     ]
    }
   ],
   "source": [
    "model = Sequential()\n",
    "\n",
    "model.add(Conv2D(filters=32,\n",
    "                  kernel_size=(3, 3),  \n",
    "                  activation='relu',\n",
    "                  input_shape=input_shape))  \n",
    "model.add(Conv2D(64, (3, 3), activation='relu'))\n",
    "model.add(MaxPooling2D(pool_size=(2, 2)))\n",
    "model.add(Dropout(0.25))\n",
    "model.add(Flatten())\n",
    "model.add(Dense(128, activation='relu'))\n",
    "model.add(Dropout(0.25))\n",
    "model.add(Dense(1, activation='sigmoid'))\n",
    "model.summary()"
   ]
  },
  {
   "cell_type": "code",
   "execution_count": 12,
   "id": "661a82b3-a324-4ecf-a3cf-3ad29821c710",
   "metadata": {},
   "outputs": [],
   "source": [
    "model.compile(loss=tf.keras.losses.binary_crossentropy,\n",
    "              optimizer=keras.optimizers.Adam(),\n",
    "              metrics=['accuracy'])"
   ]
  },
  {
   "cell_type": "markdown",
   "id": "2a79bbbc-9f4a-459f-9b1a-2d2a027e9c0c",
   "metadata": {},
   "source": [
    "## Model Training"
   ]
  },
  {
   "cell_type": "code",
   "execution_count": 13,
   "id": "d7606b2b-7344-4dda-8812-31b9cca96217",
   "metadata": {
    "tags": []
   },
   "outputs": [
    {
     "name": "stdout",
     "output_type": "stream",
     "text": [
      "Epoch 1/3\n",
      "127/127 [==============================] - 713s 6s/step - loss: 1.5321 - accuracy: 0.7828\n",
      "Epoch 2/3\n",
      "127/127 [==============================] - 692s 5s/step - loss: 0.2690 - accuracy: 0.9018\n",
      "Epoch 3/3\n",
      "127/127 [==============================] - 648s 5s/step - loss: 0.1644 - accuracy: 0.9414\n"
     ]
    },
    {
     "data": {
      "text/plain": [
       "<keras.callbacks.History at 0x7fb257fc1a60>"
      ]
     },
     "execution_count": 13,
     "metadata": {},
     "output_type": "execute_result"
    }
   ],
   "source": [
    "model.fit(X_train, y_train, batch_size=64, epochs=3, verbose=1)"
   ]
  },
  {
   "cell_type": "markdown",
   "id": "b5fdefbf-c76e-4f9f-921f-59b056ad7a0c",
   "metadata": {},
   "source": [
    "## Model Testing"
   ]
  },
  {
   "cell_type": "code",
   "execution_count": 14,
   "id": "72dc43a7-744d-4561-b455-c1d1b65b94e7",
   "metadata": {},
   "outputs": [
    {
     "name": "stdout",
     "output_type": "stream",
     "text": [
      "15/15 [==============================] - 15s 940ms/step - loss: 0.2825 - accuracy: 0.9134\n"
     ]
    }
   ],
   "source": [
    "results = model.evaluate(X_test, y_test, batch_size=64)"
   ]
  },
  {
   "cell_type": "code",
   "execution_count": 71,
   "id": "e3bacd16-85f0-4477-ad43-9e1a183f8462",
   "metadata": {},
   "outputs": [
    {
     "name": "stdout",
     "output_type": "stream",
     "text": [
      "1/1 [==============================] - 0s 203ms/step\n"
     ]
    },
    {
     "data": {
      "text/plain": [
       "array([[0.9784825 ],\n",
       "       [0.994701  ],\n",
       "       [0.97999996],\n",
       "       [0.84798586],\n",
       "       [0.99917567],\n",
       "       [0.02512486],\n",
       "       [0.7489047 ],\n",
       "       [0.2664383 ],\n",
       "       [0.4959675 ],\n",
       "       [0.9948937 ]], dtype=float32)"
      ]
     },
     "execution_count": 71,
     "metadata": {},
     "output_type": "execute_result"
    }
   ],
   "source": [
    "predictions = model.predict(X_test[:10])\n",
    "predictions"
   ]
  },
  {
   "cell_type": "code",
   "execution_count": 152,
   "id": "6449ffcf-8961-4bff-82ea-b4f4f8126154",
   "metadata": {
    "collapsed": true,
    "jupyter": {
     "outputs_hidden": true,
     "source_hidden": true
    },
    "tags": []
   },
   "outputs": [
    {
     "name": "stdout",
     "output_type": "stream",
     "text": [
      "Model: \"sequential_12\"\n",
      "_________________________________________________________________\n",
      " Layer (type)                Output Shape              Param #   \n",
      "=================================================================\n",
      " conv2d_30 (Conv2D)          (None, 254, 254, 32)      896       \n",
      "                                                                 \n",
      " conv2d_31 (Conv2D)          (None, 252, 252, 64)      18496     \n",
      "                                                                 \n",
      " max_pooling2d_19 (MaxPoolin  (None, 126, 126, 64)     0         \n",
      " g2D)                                                            \n",
      "                                                                 \n",
      " dropout_4 (Dropout)         (None, 126, 126, 64)      0         \n",
      "                                                                 \n",
      " flatten_11 (Flatten)        (None, 1016064)           0         \n",
      "                                                                 \n",
      " dense_21 (Dense)            (None, 128)               130056320 \n",
      "                                                                 \n",
      " dropout_5 (Dropout)         (None, 128)               0         \n",
      "                                                                 \n",
      " dense_22 (Dense)            (None, 2)                 258       \n",
      "                                                                 \n",
      "=================================================================\n",
      "Total params: 130,075,970\n",
      "Trainable params: 130,075,970\n",
      "Non-trainable params: 0\n",
      "_________________________________________________________________\n"
     ]
    }
   ],
   "source": [
    "model = Sequential()\n",
    "\n",
    "model.add(Conv2D(filters=32,\n",
    "                  kernel_size=(3, 3),  \n",
    "                  activation='relu',\n",
    "                  input_shape=input_shape))  \n",
    "model.add(Conv2D(64, (3, 3), activation='relu'))\n",
    "model.add(MaxPooling2D(pool_size=(2, 2)))\n",
    "model.add(Dropout(0.25))\n",
    "model.add(Flatten())\n",
    "model.add(Dense(128, activation='relu'))\n",
    "model.add(Dropout(0.25))\n",
    "model.add(Dense(2, activation='softmax'))\n",
    "\n",
    "# print model summary\n",
    "model.summary()"
   ]
  },
  {
   "cell_type": "code",
   "execution_count": null,
   "id": "697407f2-734e-442b-b475-4f29353f8075",
   "metadata": {},
   "outputs": [],
   "source": []
  }
 ],
 "metadata": {
  "kernelspec": {
   "display_name": "Python 3 (ipykernel)",
   "language": "python",
   "name": "python3"
  },
  "language_info": {
   "codemirror_mode": {
    "name": "ipython",
    "version": 3
   },
   "file_extension": ".py",
   "mimetype": "text/x-python",
   "name": "python",
   "nbconvert_exporter": "python",
   "pygments_lexer": "ipython3",
   "version": "3.9.15"
  }
 },
 "nbformat": 4,
 "nbformat_minor": 5
}
